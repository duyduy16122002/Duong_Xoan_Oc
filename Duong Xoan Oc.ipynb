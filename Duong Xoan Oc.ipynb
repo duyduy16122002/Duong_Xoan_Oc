{
 "cells": [
  {
   "cell_type": "code",
   "execution_count": 26,
   "id": "2ea67682",
   "metadata": {
    "scrolled": true
   },
   "outputs": [
    {
     "name": "stdout",
     "output_type": "stream",
     "text": [
      "Nhap ban kinh cua xoan oc: 100\n"
     ]
    }
   ],
   "source": [
    "import turtle\n",
    "import math\n",
    "i=0\n",
    "d = int(input(\"Nhap ban kinh cua xoan oc: \"))\n",
    "a = turtle.pos()\n",
    "while True:\n",
    "    vt = i / 40 * math.pi\n",
    "    y = (vt * 5 + 5) * math.sin(vt)\n",
    "    x = (vt * 5 + 5) * math.cos(vt)\n",
    "    turtle.goto(x,y)\n",
    "    i+=1\n",
    "    b =turtle.pos()\n",
    "    if turtle.distance(a,b) > d:\n",
    "        break;\n"
   ]
  },
  {
   "cell_type": "code",
   "execution_count": null,
   "id": "e1b38ed9",
   "metadata": {},
   "outputs": [],
   "source": [
    "turtle.done()"
   ]
  },
  {
   "cell_type": "code",
   "execution_count": null,
   "id": "d17cfc05",
   "metadata": {},
   "outputs": [],
   "source": []
  }
 ],
 "metadata": {
  "kernelspec": {
   "display_name": "Python 3 (ipykernel)",
   "language": "python",
   "name": "python3"
  },
  "language_info": {
   "codemirror_mode": {
    "name": "ipython",
    "version": 3
   },
   "file_extension": ".py",
   "mimetype": "text/x-python",
   "name": "python",
   "nbconvert_exporter": "python",
   "pygments_lexer": "ipython3",
   "version": "3.9.12"
  }
 },
 "nbformat": 4,
 "nbformat_minor": 5
}
